{
 "cells": [
  {
   "cell_type": "markdown",
   "id": "09b2561a",
   "metadata": {},
   "source": [
    "# **Phase 1: Data Preparation and Cleaning**"
   ]
  },
  {
   "cell_type": "code",
   "execution_count": 26,
   "id": "3a2c9398",
   "metadata": {},
   "outputs": [],
   "source": [
    "import pandas as pd"
   ]
  },
  {
   "cell_type": "code",
   "execution_count": 27,
   "id": "32b953af",
   "metadata": {},
   "outputs": [],
   "source": [
    "# Load the datasets\n",
    "providers_df = pd.read_csv('providers_data.csv')\n",
    "receivers_df = pd.read_csv('receivers_data.csv')\n",
    "food_listings_df = pd.read_csv('food_listings_data.csv')\n",
    "claims_df = pd.read_csv('claims_data.csv')"
   ]
  },
  {
   "cell_type": "markdown",
   "id": "973e0b96",
   "metadata": {},
   "source": [
    "1. Convert 'Expiry_Date' in food_listings_df to datetime objects"
   ]
  },
  {
   "cell_type": "code",
   "execution_count": 28,
   "id": "d977bea3",
   "metadata": {},
   "outputs": [
    {
     "name": "stdout",
     "output_type": "stream",
     "text": [
      "\n",
      "--- Converting 'Expiry_Date' column to datetime type ---\n",
      "Updated 'food_listings_data' info:\n",
      "<class 'pandas.core.frame.DataFrame'>\n",
      "RangeIndex: 1000 entries, 0 to 999\n",
      "Data columns (total 9 columns):\n",
      " #   Column         Non-Null Count  Dtype         \n",
      "---  ------         --------------  -----         \n",
      " 0   Food_ID        1000 non-null   int64         \n",
      " 1   Food_Name      1000 non-null   object        \n",
      " 2   Quantity       1000 non-null   int64         \n",
      " 3   Expiry_Date    1000 non-null   datetime64[ns]\n",
      " 4   Provider_ID    1000 non-null   int64         \n",
      " 5   Provider_Type  1000 non-null   object        \n",
      " 6   Location       1000 non-null   object        \n",
      " 7   Food_Type      1000 non-null   object        \n",
      " 8   Meal_Type      1000 non-null   object        \n",
      "dtypes: datetime64[ns](1), int64(3), object(5)\n",
      "memory usage: 70.4+ KB\n"
     ]
    }
   ],
   "source": [
    "print(\"\\n--- Converting 'Expiry_Date' column to datetime type ---\")\n",
    "food_listings_df['Expiry_Date'] = pd.to_datetime(food_listings_df['Expiry_Date'])\n",
    "print(\"Updated 'food_listings_data' info:\")\n",
    "food_listings_df.info()"
   ]
  },
  {
   "cell_type": "markdown",
   "id": "7078ea4a",
   "metadata": {},
   "source": [
    "2. Convert 'Timestamp' in claims_df to datetime objects"
   ]
  },
  {
   "cell_type": "code",
   "execution_count": 29,
   "id": "f9204f54",
   "metadata": {},
   "outputs": [
    {
     "name": "stdout",
     "output_type": "stream",
     "text": [
      "\n",
      "--- Converting 'Timestamp' column to datetime type ---\n",
      "Updated 'claims_data' info:\n",
      "<class 'pandas.core.frame.DataFrame'>\n",
      "RangeIndex: 1000 entries, 0 to 999\n",
      "Data columns (total 5 columns):\n",
      " #   Column       Non-Null Count  Dtype         \n",
      "---  ------       --------------  -----         \n",
      " 0   Claim_ID     1000 non-null   int64         \n",
      " 1   Food_ID      1000 non-null   int64         \n",
      " 2   Receiver_ID  1000 non-null   int64         \n",
      " 3   Status       1000 non-null   object        \n",
      " 4   Timestamp    1000 non-null   datetime64[ns]\n",
      "dtypes: datetime64[ns](1), int64(3), object(1)\n",
      "memory usage: 39.2+ KB\n"
     ]
    }
   ],
   "source": [
    "print(\"\\n--- Converting 'Timestamp' column to datetime type ---\")\n",
    "claims_df['Timestamp'] = pd.to_datetime(claims_df['Timestamp'])\n",
    "print(\"Updated 'claims_data' info:\")\n",
    "claims_df.info()"
   ]
  },
  {
   "cell_type": "markdown",
   "id": "d3e0a17c",
   "metadata": {},
   "source": [
    "3. Display the first few rows of each DataFrame to verify loading"
   ]
  },
  {
   "cell_type": "code",
   "execution_count": 30,
   "id": "71c1036d",
   "metadata": {},
   "outputs": [
    {
     "name": "stdout",
     "output_type": "stream",
     "text": [
      "Providers Data:\n",
      "   Provider_ID                         Name           Type  \\\n",
      "0            1             Gonzales-Cochran    Supermarket   \n",
      "1            2  Nielsen, Johnson and Fuller  Grocery Store   \n",
      "2            3                 Miller-Black    Supermarket   \n",
      "3            4   Clark, Prince and Williams  Grocery Store   \n",
      "4            5               Coleman-Farley  Grocery Store   \n",
      "\n",
      "                                             Address            City  \\\n",
      "0  74347 Christopher Extensions\\nAndreamouth, OK ...     New Jessica   \n",
      "1           91228 Hanson Stream\\nWelchtown, OR 27136     East Sheena   \n",
      "2  561 Martinez Point Suite 507\\nGuzmanchester, W...  Lake Jesusview   \n",
      "3     467 Bell Trail Suite 409\\nPort Jesus, IA 61188     Mendezmouth   \n",
      "4  078 Matthew Creek Apt. 319\\nSaraborough, MA 53978   Valentineside   \n",
      "\n",
      "                Contact  \n",
      "0       +1-600-220-0480  \n",
      "1  +1-925-283-8901x6297  \n",
      "2      001-517-295-2206  \n",
      "3      556.944.8935x401  \n",
      "4          193.714.6577  \n"
     ]
    }
   ],
   "source": [
    "print(\"Providers Data:\")\n",
    "print(providers_df.head())"
   ]
  },
  {
   "cell_type": "code",
   "execution_count": 31,
   "metadata": {},
   "outputs": [
    {
     "name": "stdout",
     "output_type": "stream",
     "text": [
      "\n",
      "Receivers Data:\n",
      "   Receiver_ID          Name        Type               City           Contact\n",
      "0            1  Donald Gomez     Shelter     Port Carlburgh     (955)922-5295\n",
      "1            2  Laurie Ramos  Individual         Lewisburgh      761.042.1570\n",
      "2            3  Ashley Mckee         NGO  South Randalltown  691-023-0094x856\n",
      "3            4    Erika Rose         NGO   South Shaneville        8296491111\n",
      "4            5   John Romero  Individual          Bakerport      067.491.0154\n"
     ]
    }
   ],
   "source": [
    "print(\"\\nReceivers Data:\")\n",
    "print(receivers_df.head())"
   ]
  },
  {
   "cell_type": "code",
   "execution_count": 32,
   "id": "573d42bf",
   "metadata": {},
   "outputs": [
    {
     "name": "stdout",
     "output_type": "stream",
     "text": [
      "\n",
      "Food Listings Data:\n",
      "   Food_ID Food_Name  Quantity Expiry_Date  Provider_ID     Provider_Type  \\\n",
      "0        1     Bread        43  2025-03-17          110     Grocery Store   \n",
      "1        2      Soup        22  2025-03-24          791     Grocery Store   \n",
      "2        3    Fruits        46  2025-03-28          478  Catering Service   \n",
      "3        4    Fruits        15  2025-03-16          930        Restaurant   \n",
      "4        5      Soup        14  2025-03-19          279        Restaurant   \n",
      "\n",
      "           Location       Food_Type  Meal_Type  \n",
      "0  South Kellyville  Non-Vegetarian  Breakfast  \n",
      "1        West James  Non-Vegetarian     Dinner  \n",
      "2       Lake Regina           Vegan  Breakfast  \n",
      "3         Kellytown           Vegan      Lunch  \n",
      "4        Garciaport           Vegan     Dinner  \n"
     ]
    }
   ],
   "source": [
    "print(\"\\nFood Listings Data:\")\n",
    "print(food_listings_df.head())"
   ]
  },
  {
   "cell_type": "code",
   "execution_count": 33,
   "id": "58070153",
   "metadata": {},
   "outputs": [
    {
     "name": "stdout",
     "output_type": "stream",
     "text": [
      "\n",
      "Claims Data:\n",
      "   Claim_ID  Food_ID  Receiver_ID     Status           Timestamp\n",
      "0         1      164          908    Pending 2025-03-05 05:26:00\n",
      "1         2      353          391  Cancelled 2025-03-11 10:24:00\n",
      "2         3      626          492  Completed 2025-03-21 00:59:00\n",
      "3         4       61          933  Cancelled 2025-03-04 09:08:00\n",
      "4         5      345          229    Pending 2025-03-14 15:17:00\n"
     ]
    }
   ],
   "source": [
    "print(\"\\nClaims Data:\")\n",
    "print(claims_df.head())"
   ]
  },
  {
   "cell_type": "markdown",
   "id": "d09f3991",
   "metadata": {},
   "source": [
    "# **Phase 2: Database Creation**"
   ]
  },
  {
   "cell_type": "markdown",
   "id": "0c7d4f8f",
   "metadata": {},
   "source": [
    "1. Setup and Connection"
   ]
  },
  {
   "cell_type": "markdown",
   "id": "a2167126",
   "metadata": {},
   "source": [
    "-- Create the database if it doesn't exist\n",
    "CREATE DATABASE IF NOT EXISTS food_wastage_db;\n",
    "USE food_wastage_db;\n",
    "\n",
    "-- Create the Providers table\n",
    "CREATE TABLE Providers (\n",
    "    Provider_ID INT PRIMARY KEY,\n",
    "    Name VARCHAR(255) NOT NULL,\n",
    "    Type VARCHAR(255),\n",
    "    Address VARCHAR(255),\n",
    "    City VARCHAR(255),\n",
    "    Contact VARCHAR(255)\n",
    ");\n",
    "\n",
    "-- Create the Receivers table\n",
    "CREATE TABLE Receivers (\n",
    "    Receiver_ID INT PRIMARY KEY,\n",
    "    Name VARCHAR(255) NOT NULL,\n",
    "    Type VARCHAR(255),\n",
    "    City VARCHAR(255),\n",
    "    Contact VARCHAR(255)\n",
    ");\n",
    "\n",
    "-- Create the Food_Listings table\n",
    "CREATE TABLE Food_Listings (\n",
    "    Food_ID INT PRIMARY KEY,\n",
    "    Food_Name VARCHAR(255) NOT NULL,\n",
    "    Quantity INT,\n",
    "    Expiry_Date DATE,\n",
    "    Provider_ID INT,\n",
    "    Provider_Type VARCHAR(255),\n",
    "    Location VARCHAR(255),\n",
    "    Food_Type VARCHAR(255),\n",
    "    Meal_Type VARCHAR(255),\n",
    "    FOREIGN KEY (Provider_ID) REFERENCES Providers(Provider_ID)\n",
    ");\n",
    "\n",
    "-- Create the Claims table\n",
    "CREATE TABLE Claims (\n",
    "    Claim_ID INT PRIMARY KEY,\n",
    "    Food_ID INT,\n",
    "    Receiver_ID INT,\n",
    "    Status VARCHAR(255),\n",
    "    Timestamp DATETIME,\n",
    "    FOREIGN KEY (Food_ID) REFERENCES Food_Listings(Food_ID),\n",
    "    FOREIGN KEY (Receiver_ID) REFERENCES Receivers(Receiver_ID)\n",
    ");"
   ]
  },
  {
   "cell_type": "code",
   "execution_count": 66,
   "id": "7e2e0f63",
   "metadata": {},
   "outputs": [],
   "source": [
    "from sqlalchemy import create_engine, text\n",
    "import pymysql"
   ]
  },
  {
   "cell_type": "code",
   "execution_count": 51,
   "metadata": {},
   "outputs": [],
   "source": [
    "db_config = {\n",
    "    'host': 'localhost',\n",
    "    'database': 'food_wastage_db',\n",
    "    'user': 'root',  \n",
    "    'password': 'sandeep',\n",
    "    'port': 3306\n",
    "}"
   ]
  },
  {
   "cell_type": "code",
   "execution_count": 52,
   "id": "3a4e15d6",
   "metadata": {},
   "outputs": [],
   "source": [
    "def create_sqlalchemy_engine(config):\n",
    "    \"\"\"Create a SQLAlchemy engine for the MySQL database.\"\"\"\n",
    "    try:\n",
    "        engine = create_engine(\n",
    "            f\"mysql+pymysql://{config['user']}:{config['password']}@{config['host']}:{config['port']}/{config['database']}\"\n",
    "        )\n",
    "        print(\"SQLAlchemy engine created successfully.\")\n",
    "        return engine\n",
    "    except Exception as e:\n",
    "        print(f\"Error creating SQLAlchemy engine: {e}\")\n",
    "        return None"
   ]
  },
  {
   "cell_type": "code",
   "execution_count": 53,
   "id": "e123ccd4",
   "metadata": {},
   "outputs": [],
   "source": [
    "def load_data_from_csv():\n",
    "    \"\"\"Load data from CSV files into pandas DataFrames.\"\"\"\n",
    "    try:\n",
    "        providers_df = pd.read_csv('providers_data.csv')\n",
    "        receivers_df = pd.read_csv('receivers_data.csv')\n",
    "        food_listings_df = pd.read_csv('food_listings_data.csv')\n",
    "        claims_df = pd.read_csv('claims_data.csv')\n",
    "\n",
    "        # Perform data type conversions\n",
    "        food_listings_df['Expiry_Date'] = pd.to_datetime(food_listings_df['Expiry_Date'])\n",
    "        claims_df['Timestamp'] = pd.to_datetime(claims_df['Timestamp'])\n",
    "\n",
    "        print(\"DataFrames loaded successfully from CSV files.\")\n",
    "        return providers_df, receivers_df, food_listings_df, claims_df\n",
    "    except FileNotFoundError as e:\n",
    "        print(f\"Error: {e}. Please ensure all CSV files are in the same directory.\")\n",
    "        return None, None, None, None"
   ]
  },
  {
   "cell_type": "code",
   "execution_count": 54,
   "metadata": {},
   "outputs": [],
   "source": [
    "def main():\n",
    "    # Step 1: Create a database connection engine\n",
    "    engine = create_sqlalchemy_engine(db_config)\n",
    "    if engine is None:\n",
    "        return\n",
    "\n",
    "    # Step 2: Load data from CSV files\n",
    "    providers_df, receivers_df, food_listings_df, claims_df = load_data_from_csv()\n",
    "    if providers_df is None:\n",
    "        return\n",
    "\n",
    "    # Step 3: Write each DataFrame to its corresponding MySQL table using the engine\n",
    "    try:\n",
    "        providers_df.to_sql(name='Providers', con=engine, if_exists='append', index=False)\n",
    "        print(\"Successfully loaded data into 'Providers' table.\")\n",
    "        \n",
    "        receivers_df.to_sql(name='Receivers', con=engine, if_exists='append', index=False)\n",
    "        print(\"Successfully loaded data into 'Receivers' table.\")\n",
    "        \n",
    "        food_listings_df.to_sql(name='Food_Listings', con=engine, if_exists='append', index=False)\n",
    "        print(\"Successfully loaded data into 'Food_Listings' table.\")\n",
    "        \n",
    "        claims_df.to_sql(name='Claims', con=engine, if_exists='append', index=False)\n",
    "        print(\"Successfully loaded data into 'Claims' table.\")\n",
    "\n",
    "    except Exception as e:\n",
    "        print(f\"An error occurred while writing to tables: {e}\")"
   ]
  },
  {
   "cell_type": "code",
   "execution_count": 55,
   "id": "88cc3f36",
   "metadata": {},
   "outputs": [
    {
     "name": "stdout",
     "output_type": "stream",
     "text": [
      "SQLAlchemy engine created successfully.\n",
      "DataFrames loaded successfully from CSV files.\n",
      "Successfully loaded data into 'Providers' table.\n",
      "Successfully loaded data into 'Receivers' table.\n",
      "Successfully loaded data into 'Food_Listings' table.\n",
      "Successfully loaded data into 'Claims' table.\n"
     ]
    },
    {
     "name": "stderr",
     "output_type": "stream",
     "text": [
      "C:\\Users\\hanum\\AppData\\Local\\Temp\\ipykernel_27996\\1358771003.py:14: UserWarning: The provided table name 'Providers' is not found exactly as such in the database after writing the table, possibly due to case sensitivity issues. Consider using lower case table names.\n",
      "  providers_df.to_sql(name='Providers', con=engine, if_exists='append', index=False)\n",
      "C:\\Users\\hanum\\AppData\\Local\\Temp\\ipykernel_27996\\1358771003.py:17: UserWarning: The provided table name 'Receivers' is not found exactly as such in the database after writing the table, possibly due to case sensitivity issues. Consider using lower case table names.\n",
      "  receivers_df.to_sql(name='Receivers', con=engine, if_exists='append', index=False)\n",
      "C:\\Users\\hanum\\AppData\\Local\\Temp\\ipykernel_27996\\1358771003.py:20: UserWarning: The provided table name 'Food_Listings' is not found exactly as such in the database after writing the table, possibly due to case sensitivity issues. Consider using lower case table names.\n",
      "  food_listings_df.to_sql(name='Food_Listings', con=engine, if_exists='append', index=False)\n",
      "C:\\Users\\hanum\\AppData\\Local\\Temp\\ipykernel_27996\\1358771003.py:23: UserWarning: The provided table name 'Claims' is not found exactly as such in the database after writing the table, possibly due to case sensitivity issues. Consider using lower case table names.\n",
      "  claims_df.to_sql(name='Claims', con=engine, if_exists='append', index=False)\n"
     ]
    }
   ],
   "source": [
    "if __name__ == \"__main__\":\n",
    "    main()"
   ]
  },
  {
   "cell_type": "markdown",
   "id": "ef88e3b7",
   "metadata": {},
   "source": [
    "2. CRUD Functions"
   ]
  },
  {
   "cell_type": "code",
   "execution_count": 67,
   "id": "8d03ffd6",
   "metadata": {},
   "outputs": [],
   "source": [
    "def create_food_listing(engine, food_id, food_name, quantity, expiry_date, provider_id, provider_type, location, food_type, meal_type):\n",
    "    \"\"\"Add a new food listing to the database using SQLAlchemy engine.\"\"\"\n",
    "    query = \"\"\"\n",
    "    INSERT INTO Food_Listings (Food_ID, Food_Name, Quantity, Expiry_Date, Provider_ID, Provider_Type, Location, Food_Type, Meal_Type)\n",
    "    VALUES (:food_id, :food_name, :quantity, :expiry_date, :provider_id, :provider_type, :location, :food_type, :meal_type)\n",
    "    \"\"\"\n",
    "    data = {\n",
    "        'food_id': food_id,\n",
    "        'food_name': food_name,\n",
    "        'quantity': quantity,\n",
    "        'expiry_date': expiry_date,\n",
    "        'provider_id': provider_id,\n",
    "        'provider_type': provider_type,\n",
    "        'location': location,\n",
    "        'food_type': food_type,\n",
    "        'meal_type': meal_type\n",
    "    }\n",
    "    with engine.connect() as connection:\n",
    "        try:\n",
    "            connection.execute(text(query), data)\n",
    "            connection.commit()\n",
    "            print(\"Food listing created successfully.\")\n",
    "        except Exception as e:\n",
    "            print(f\"Failed to create listing: {e}\")"
   ]
  },
  {
   "cell_type": "code",
   "execution_count": 68,
   "id": "2ed3d298",
   "metadata": {},
   "outputs": [],
   "source": [
    "def read_food_listings(engine):\n",
    "    \"\"\"Read all food listings from the database using SQLAlchemy engine.\"\"\"\n",
    "    query = \"SELECT * FROM Food_Listings;\"\n",
    "    try:\n",
    "        df = pd.read_sql_query(query, engine)\n",
    "        return df\n",
    "    except Exception as e:\n",
    "        print(f\"Failed to read listings: {e}\")\n",
    "        return pd.DataFrame()"
   ]
  },
  {
   "cell_type": "code",
   "execution_count": 69,
   "id": "21046d7d",
   "metadata": {},
   "outputs": [],
   "source": [
    "def update_food_listing_quantity(engine, food_id, new_quantity):\n",
    "    \"\"\"Update the quantity of a food listing using SQLAlchemy engine.\"\"\"\n",
    "    query = \"UPDATE Food_Listings SET Quantity = :new_quantity WHERE Food_ID = :food_id\"\n",
    "    with engine.connect() as connection:\n",
    "        try:\n",
    "            connection.execute(text(query), {'new_quantity': new_quantity, 'food_id': food_id})\n",
    "            connection.commit()\n",
    "            print(\"Food listing updated successfully.\")\n",
    "        except Exception as e:\n",
    "            print(f\"Failed to update listing: {e}\")"
   ]
  },
  {
   "cell_type": "code",
   "execution_count": 70,
   "id": "1b69d37c",
   "metadata": {},
   "outputs": [],
   "source": [
    "def delete_food_listing(engine, food_id):\n",
    "    \"\"\"Delete a food listing from the database using SQLAlchemy engine.\"\"\"\n",
    "    query = \"DELETE FROM Food_Listings WHERE Food_ID = :food_id\"\n",
    "    with engine.connect() as connection:\n",
    "        try:\n",
    "            connection.execute(text(query), {'food_id': food_id})\n",
    "            connection.commit()\n",
    "            print(\"Food listing deleted successfully.\")\n",
    "        except Exception as e:\n",
    "            print(f\"Failed to delete listing: {e}\")"
   ]
  },
  {
   "cell_type": "code",
   "execution_count": 71,
   "id": "da5a5fa2",
   "metadata": {},
   "outputs": [
    {
     "name": "stdout",
     "output_type": "stream",
     "text": [
      "SQLAlchemy engine created successfully.\n",
      "\n",
      "--- Initial Food Listings ---\n",
      "     Food_ID Food_Name  Quantity Expiry_Date  Provider_ID     Provider_Type  \\\n",
      "995      996      Fish        15  2025-03-30          467  Catering Service   \n",
      "996      997      Fish        22  2025-03-18           35     Grocery Store   \n",
      "997      998    Fruits         6  2025-03-22          444        Restaurant   \n",
      "998      999     Pasta        15  2025-03-30          702       Supermarket   \n",
      "999     1000     Salad        18  2025-03-19          155       Supermarket   \n",
      "\n",
      "          Location       Food_Type  Meal_Type  \n",
      "995   Phillipsfort           Vegan  Breakfast  \n",
      "996  Andersonmouth      Vegetarian  Breakfast  \n",
      "997      New Billy  Non-Vegetarian     Dinner  \n",
      "998  Lake Mistyton  Non-Vegetarian      Lunch  \n",
      "999    Charlesview  Non-Vegetarian     Dinner  \n",
      "\n",
      "--- Creating a new food listing with Food_ID = 1001 ---\n",
      "Food listing created successfully.\n",
      "\n",
      "--- Updated Food Listings after CREATE ---\n",
      "      Food_ID     Food_Name  Quantity Expiry_Date  Provider_ID  Provider_Type  \\\n",
      "996       997          Fish        22  2025-03-18           35  Grocery Store   \n",
      "997       998        Fruits         6  2025-03-22          444     Restaurant   \n",
      "998       999         Pasta        15  2025-03-30          702    Supermarket   \n",
      "999      1000         Salad        18  2025-03-19          155    Supermarket   \n",
      "1000     1001  Fresh Apples        50  2025-09-01            1    Supermarket   \n",
      "\n",
      "           Location       Food_Type  Meal_Type  \n",
      "996   Andersonmouth      Vegetarian  Breakfast  \n",
      "997       New Billy  Non-Vegetarian     Dinner  \n",
      "998   Lake Mistyton  Non-Vegetarian      Lunch  \n",
      "999     Charlesview  Non-Vegetarian     Dinner  \n",
      "1000       New York      Vegetarian     Snacks  \n",
      "\n",
      "--- Updating the quantity for Food_ID 1001 to 75 ---\n",
      "Food listing updated successfully.\n",
      "\n",
      "--- Updated Food Listings after UPDATE ---\n",
      "      Food_ID     Food_Name  Quantity Expiry_Date  Provider_ID Provider_Type  \\\n",
      "1000     1001  Fresh Apples        75  2025-09-01            1   Supermarket   \n",
      "\n",
      "      Location   Food_Type Meal_Type  \n",
      "1000  New York  Vegetarian    Snacks  \n",
      "\n",
      "--- Deleting the listing with Food_ID = 1001 ---\n",
      "Food listing deleted successfully.\n",
      "\n",
      "--- Final Food Listings after DELETE ---\n",
      "     Food_ID Food_Name  Quantity Expiry_Date  Provider_ID     Provider_Type  \\\n",
      "995      996      Fish        15  2025-03-30          467  Catering Service   \n",
      "996      997      Fish        22  2025-03-18           35     Grocery Store   \n",
      "997      998    Fruits         6  2025-03-22          444        Restaurant   \n",
      "998      999     Pasta        15  2025-03-30          702       Supermarket   \n",
      "999     1000     Salad        18  2025-03-19          155       Supermarket   \n",
      "\n",
      "          Location       Food_Type  Meal_Type  \n",
      "995   Phillipsfort           Vegan  Breakfast  \n",
      "996  Andersonmouth      Vegetarian  Breakfast  \n",
      "997      New Billy  Non-Vegetarian     Dinner  \n",
      "998  Lake Mistyton  Non-Vegetarian      Lunch  \n",
      "999    Charlesview  Non-Vegetarian     Dinner  \n"
     ]
    }
   ],
   "source": [
    "def main():\n",
    "    # Create the SQLAlchemy engine\n",
    "    engine = create_sqlalchemy_engine(db_config)\n",
    "    if engine is None:\n",
    "        return\n",
    "\n",
    "    # READ: Display the initial state of the table\n",
    "    print(\"\\n--- Initial Food Listings ---\")\n",
    "    initial_listings_df = read_food_listings(engine)\n",
    "    print(initial_listings_df.tail())\n",
    "\n",
    "    # CREATE: Add a new food listing\n",
    "    print(\"\\n--- Creating a new food listing with Food_ID = 1001 ---\")\n",
    "    create_food_listing(engine, 1001, 'Fresh Apples', 50, '2025-09-01', 1, 'Supermarket', 'New York', 'Vegetarian', 'Snacks')\n",
    "    \n",
    "    # READ: Display the table after the CREATE operation\n",
    "    print(\"\\n--- Updated Food Listings after CREATE ---\")\n",
    "    created_listings_df = read_food_listings(engine)\n",
    "    print(created_listings_df.tail())\n",
    "\n",
    "    # UPDATE: Update the quantity of the newly created listing\n",
    "    print(\"\\n--- Updating the quantity for Food_ID 1001 to 75 ---\")\n",
    "    update_food_listing_quantity(engine, 1001, 75)\n",
    "    \n",
    "    # READ: Display the table after the UPDATE operation\n",
    "    print(\"\\n--- Updated Food Listings after UPDATE ---\")\n",
    "    updated_listings_df = read_food_listings(engine)\n",
    "    print(updated_listings_df.loc[updated_listings_df['Food_ID'] == 1001])\n",
    "\n",
    "    # DELETE: Remove the newly created and updated listing\n",
    "    print(\"\\n--- Deleting the listing with Food_ID = 1001 ---\")\n",
    "    delete_food_listing(engine, 1001)\n",
    "    \n",
    "    # READ: Display the table after the DELETE operation\n",
    "    print(\"\\n--- Final Food Listings after DELETE ---\")\n",
    "    deleted_listings_df = read_food_listings(engine)\n",
    "    print(deleted_listings_df.tail())\n",
    "\n",
    "if __name__ == \"__main__\":\n",
    "    main()"
   ]
  },
  {
   "cell_type": "markdown",
   "id": "3162b6a9",
   "metadata": {},
   "source": [
    "# **Phase 3: Data Analysis**"
   ]
  },
  {
   "cell_type": "code",
   "execution_count": 73,
   "id": "4f031d1d",
   "metadata": {},
   "outputs": [
    {
     "name": "stdout",
     "output_type": "stream",
     "text": [
      "SQLAlchemy engine created successfully.\n"
     ]
    }
   ],
   "source": [
    "engine = create_sqlalchemy_engine(db_config)"
   ]
  },
  {
   "cell_type": "markdown",
   "id": "7f71e1cf",
   "metadata": {},
   "source": [
    "1. How many food providers and receivers are there in each city?"
   ]
  },
  {
   "cell_type": "code",
   "execution_count": 80,
   "id": "22dc0783",
   "metadata": {},
   "outputs": [
    {
     "name": "stdout",
     "output_type": "stream",
     "text": [
      "\n",
      "--- 1. Number of food providers and receivers in each city ---\n",
      "                       City  Number_of_Providers  Number_of_Receivers\n",
      "0                 New Carol                    3                    0\n",
      "1  South Christopherborough                    3                    0\n",
      "2              Lake Michael                    2                    1\n",
      "3                New Daniel                    2                    1\n",
      "4            North Michelle                    2                    1\n"
     ]
    }
   ],
   "source": [
    "print(\"\\n--- 1. Number of food providers and receivers in each city ---\")\n",
    "query_1 = \"\"\"\n",
    "SELECT\n",
    "    T1.City,\n",
    "    COUNT(DISTINCT T1.Provider_ID) AS Number_of_Providers,\n",
    "    COUNT(DISTINCT T2.Receiver_ID) AS Number_of_Receivers\n",
    "FROM providers AS T1\n",
    "LEFT JOIN receivers AS T2 ON T1.City = T2.City\n",
    "GROUP BY T1.City\n",
    "ORDER BY Number_of_Providers DESC, Number_of_Receivers DESC;\n",
    "\"\"\"\n",
    "result_1 = pd.read_sql_query(query_1, engine)\n",
    "print(result_1.head())"
   ]
  },
  {
   "cell_type": "markdown",
   "id": "14839f81",
   "metadata": {},
   "source": [
    "2. Which type of food provider contributes the most food?"
   ]
  },
  {
   "cell_type": "code",
   "execution_count": 83,
   "id": "e8973a15",
   "metadata": {},
   "outputs": [
    {
     "name": "stdout",
     "output_type": "stream",
     "text": [
      "\n",
      "--- 2. Provider type that contributes the most food ---\n",
      "  Provider_Type  Contribution_Count\n",
      "0   Supermarket                 267\n"
     ]
    }
   ],
   "source": [
    "print(\"\\n--- 2. Provider type that contributes the most food ---\")\n",
    "query_2 = \"\"\"\n",
    "SELECT Provider_Type, COUNT(*) as Contribution_Count\n",
    "FROM food_listings\n",
    "GROUP BY Provider_Type\n",
    "ORDER BY Contribution_Count DESC\n",
    "LIMIT 1;\n",
    "\"\"\"\n",
    "result_2 = pd.read_sql_query(query_2, engine)\n",
    "print(result_2)"
   ]
  },
  {
   "cell_type": "markdown",
   "id": "16fb361d",
   "metadata": {},
   "source": [
    "3. Contact information of food providers in South Kathryn"
   ]
  },
  {
   "cell_type": "code",
   "execution_count": 84,
   "id": "2ced309c",
   "metadata": {},
   "outputs": [
    {
     "name": "stdout",
     "output_type": "stream",
     "text": [
      "\n",
      "--- 3. Contact information for providers in South Kathryn ---\n",
      "          Name               Contact\n",
      "0  Barry Group  +1-533-592-0009x5523\n"
     ]
    }
   ],
   "source": [
    "print(\"\\n--- 3. Contact information for providers in South Kathryn ---\")\n",
    "query_3 = \"\"\"\n",
    "SELECT Name, Contact\n",
    "FROM providers\n",
    "WHERE City = 'South Kathryn';\n",
    "\"\"\"\n",
    "result_3 = pd.read_sql_query(query_3, engine)\n",
    "print(result_3)"
   ]
  },
  {
   "cell_type": "markdown",
   "id": "520a5f7f",
   "metadata": {},
   "source": [
    "4. Receivers who have claimed the most food"
   ]
  },
  {
   "cell_type": "code",
   "execution_count": 85,
   "id": "2fac55d3",
   "metadata": {},
   "outputs": [
    {
     "name": "stdout",
     "output_type": "stream",
     "text": [
      "\n",
      "--- 4. Receivers who have claimed the most food ---\n",
      "                Name  Total_Claims\n",
      "0  William Frederick             5\n",
      "1       Matthew Webb             5\n",
      "2       Scott Hunter             5\n",
      "3     Anthony Garcia             5\n",
      "4    Alexandra Owens             4\n",
      "5         Betty Reid             4\n",
      "6    Jennifer Nelson             4\n",
      "7   Kristina Simpson             4\n",
      "8    Kristine Martin             4\n",
      "9         Alvin West             4\n"
     ]
    }
   ],
   "source": [
    "print(\"\\n--- 4. Receivers who have claimed the most food ---\")\n",
    "query_4 = \"\"\"\n",
    "SELECT r.Name, COUNT(c.Claim_ID) AS Total_Claims\n",
    "FROM receivers AS r\n",
    "JOIN claims AS c ON r.Receiver_ID = c.Receiver_ID\n",
    "GROUP BY r.Name\n",
    "ORDER BY Total_Claims DESC\n",
    "LIMIT 10;\n",
    "\"\"\"\n",
    "result_4 = pd.read_sql_query(query_4, engine)\n",
    "print(result_4)"
   ]
  },
  {
   "cell_type": "markdown",
   "id": "cf089119",
   "metadata": {},
   "source": [
    "5. Total quantity of food available from all providers"
   ]
  },
  {
   "cell_type": "code",
   "execution_count": 86,
   "id": "988b1cb6",
   "metadata": {},
   "outputs": [
    {
     "name": "stdout",
     "output_type": "stream",
     "text": [
      "\n",
      "--- 5. Total quantity of food available from all providers ---\n",
      "   Total_Available_Quantity\n",
      "0                   25794.0\n"
     ]
    }
   ],
   "source": [
    "print(\"\\n--- 5. Total quantity of food available from all providers ---\")\n",
    "query_5 = \"\"\"\n",
    "SELECT SUM(Quantity) as Total_Available_Quantity\n",
    "FROM food_listings;\n",
    "\"\"\"\n",
    "result_5 = pd.read_sql_query(query_5, engine)\n",
    "print(result_5)"
   ]
  },
  {
   "cell_type": "markdown",
   "id": "96eeee85",
   "metadata": {},
   "source": [
    "6. City with the highest number of food listings"
   ]
  },
  {
   "cell_type": "code",
   "execution_count": 87,
   "id": "b9b10bcb",
   "metadata": {},
   "outputs": [
    {
     "name": "stdout",
     "output_type": "stream",
     "text": [
      "\n",
      "--- 6. City with the highest number of food listings ---\n",
      "    Location  Number_of_Listings\n",
      "0  New Carol                   6\n"
     ]
    }
   ],
   "source": [
    "print(\"\\n--- 6. City with the highest number of food listings ---\")\n",
    "query_6 = \"\"\"\n",
    "SELECT Location, COUNT(*) as Number_of_Listings\n",
    "FROM food_listings\n",
    "GROUP BY Location\n",
    "ORDER BY Number_of_Listings DESC\n",
    "LIMIT 1;\n",
    "\"\"\"\n",
    "result_6 = pd.read_sql_query(query_6, engine)\n",
    "print(result_6)"
   ]
  },
  {
   "cell_type": "markdown",
   "id": "9f07232e",
   "metadata": {},
   "source": [
    "7. Most commonly available food types"
   ]
  },
  {
   "cell_type": "code",
   "execution_count": 88,
   "id": "e3726bd3",
   "metadata": {},
   "outputs": [
    {
     "name": "stdout",
     "output_type": "stream",
     "text": [
      "\n",
      "--- 7. Most commonly available food types ---\n",
      "        Food_Type  Number_of_Items\n",
      "0      Vegetarian              336\n",
      "1           Vegan              334\n",
      "2  Non-Vegetarian              330\n"
     ]
    }
   ],
   "source": [
    "print(\"\\n--- 7. Most commonly available food types ---\")\n",
    "query_7 = \"\"\"\n",
    "SELECT Food_Type, COUNT(*) as Number_of_Items\n",
    "FROM food_listings\n",
    "GROUP BY Food_Type\n",
    "ORDER BY Number_of_Items DESC;\n",
    "\"\"\"\n",
    "result_7 = pd.read_sql_query(query_7, engine)\n",
    "print(result_7)"
   ]
  },
  {
   "cell_type": "markdown",
   "id": "7848ebae",
   "metadata": {},
   "source": [
    "8. Number of food claims for each food item (top 5)"
   ]
  },
  {
   "cell_type": "code",
   "execution_count": 89,
   "id": "debe6c1b",
   "metadata": {},
   "outputs": [
    {
     "name": "stdout",
     "output_type": "stream",
     "text": [
      "\n",
      "--- 8. Number of food claims for each food item (top 5) ---\n",
      "  Food_Name  Number_of_Claims\n",
      "0      Rice               122\n",
      "1      Soup               114\n",
      "2     Dairy               110\n",
      "3      Fish               108\n",
      "4     Salad               106\n"
     ]
    }
   ],
   "source": [
    "print(\"\\n--- 8. Number of food claims for each food item (top 5) ---\")\n",
    "query_8 = \"\"\"\n",
    "SELECT fl.Food_Name, COUNT(c.Claim_ID) AS Number_of_Claims\n",
    "FROM food_listings AS fl\n",
    "JOIN claims AS c ON fl.Food_ID = c.Food_ID\n",
    "GROUP BY fl.Food_Name\n",
    "ORDER BY Number_of_Claims DESC\n",
    "LIMIT 5;\n",
    "\"\"\"\n",
    "result_8 = pd.read_sql_query(query_8, engine)\n",
    "print(result_8)"
   ]
  },
  {
   "cell_type": "markdown",
   "id": "37318f1e",
   "metadata": {},
   "source": [
    "9. Provider with the highest number of successful claims"
   ]
  },
  {
   "cell_type": "code",
   "execution_count": 90,
   "id": "060ab82a",
   "metadata": {},
   "outputs": [
    {
     "name": "stdout",
     "output_type": "stream",
     "text": [
      "\n",
      "--- 9. Provider with the highest number of successful claims ---\n",
      "          Name  Successful_Claims\n",
      "0  Barry Group                  5\n"
     ]
    }
   ],
   "source": [
    "print(\"\\n--- 9. Provider with the highest number of successful claims ---\")\n",
    "query_9 = \"\"\"\n",
    "SELECT p.Name, COUNT(c.Claim_ID) AS Successful_Claims\n",
    "FROM providers AS p\n",
    "JOIN food_listings AS fl ON p.Provider_ID = fl.Provider_ID\n",
    "JOIN claims AS c ON fl.Food_ID = c.Food_ID\n",
    "WHERE c.Status = 'Completed'\n",
    "GROUP BY p.Name\n",
    "ORDER BY Successful_Claims DESC\n",
    "LIMIT 1;\n",
    "\"\"\"\n",
    "result_9 = pd.read_sql_query(query_9, engine)\n",
    "print(result_9)"
   ]
  },
  {
   "cell_type": "markdown",
   "id": "a868e818",
   "metadata": {},
   "source": [
    "10. Percentage of claims by status"
   ]
  },
  {
   "cell_type": "code",
   "execution_count": 91,
   "id": "d5598d9a",
   "metadata": {},
   "outputs": [
    {
     "name": "stdout",
     "output_type": "stream",
     "text": [
      "\n",
      "--- 10. Percentage of claims by status ---\n",
      "      Status  Percentage\n",
      "0    Pending        32.5\n",
      "1  Cancelled        33.6\n",
      "2  Completed        33.9\n"
     ]
    }
   ],
   "source": [
    "print(\"\\n--- 10. Percentage of claims by status ---\")\n",
    "query_10 = \"\"\"\n",
    "SELECT\n",
    "    Status,\n",
    "    CAST(COUNT(*) AS REAL) * 100 / (SELECT COUNT(*) FROM claims) AS Percentage\n",
    "FROM claims\n",
    "GROUP BY Status;\n",
    "\"\"\"\n",
    "result_10 = pd.read_sql_query(query_10, engine)\n",
    "print(result_10)"
   ]
  },
  {
   "cell_type": "markdown",
   "id": "ec3db8c4",
   "metadata": {},
   "source": [
    "11. Average quantity of food claimed per receiver"
   ]
  },
  {
   "cell_type": "code",
   "execution_count": 92,
   "id": "aa1eda45",
   "metadata": {},
   "outputs": [
    {
     "name": "stdout",
     "output_type": "stream",
     "text": [
      "\n",
      "--- 11. Average quantity of food claimed per receiver ---\n",
      "   Average_Quantity_Claimed_Per_Receiver\n",
      "0                                 25.959\n"
     ]
    }
   ],
   "source": [
    "print(\"\\n--- 11. Average quantity of food claimed per receiver ---\")\n",
    "query_11 = \"\"\"\n",
    "SELECT\n",
    "    AVG(fl.Quantity) AS Average_Quantity_Claimed_Per_Receiver\n",
    "FROM claims AS c\n",
    "JOIN food_listings AS fl ON c.Food_ID = fl.Food_ID;\n",
    "\"\"\"\n",
    "result_11 = pd.read_sql_query(query_11, engine)\n",
    "print(result_11)"
   ]
  },
  {
   "cell_type": "markdown",
   "id": "baa4e645",
   "metadata": {},
   "source": [
    "12. Most claimed meal type"
   ]
  },
  {
   "cell_type": "code",
   "execution_count": 93,
   "id": "74510ae6",
   "metadata": {},
   "outputs": [
    {
     "name": "stdout",
     "output_type": "stream",
     "text": [
      "\n",
      "--- 12. Most claimed meal type ---\n",
      "   Meal_Type  Number_of_Claims\n",
      "0  Breakfast               278\n",
      "1      Lunch               250\n",
      "2     Snacks               240\n",
      "3     Dinner               232\n"
     ]
    }
   ],
   "source": [
    "print(\"\\n--- 12. Most claimed meal type ---\")\n",
    "query_12 = \"\"\"\n",
    "SELECT\n",
    "    fl.Meal_Type,\n",
    "    COUNT(c.Claim_ID) AS Number_of_Claims\n",
    "FROM\n",
    "    claims AS c\n",
    "JOIN\n",
    "    food_listings AS fl ON c.Food_ID = fl.Food_ID\n",
    "GROUP BY\n",
    "    fl.Meal_Type\n",
    "ORDER BY\n",
    "    Number_of_Claims DESC;\n",
    "\"\"\"\n",
    "result_12 = pd.read_sql_query(query_12, engine)\n",
    "print(result_12)"
   ]
  },
  {
   "cell_type": "markdown",
   "id": "a103f566",
   "metadata": {},
   "source": [
    "13. Total quantity of food donated by each provider"
   ]
  },
  {
   "cell_type": "code",
   "execution_count": 94,
   "id": "3d51075c",
   "metadata": {},
   "outputs": [
    {
     "name": "stdout",
     "output_type": "stream",
     "text": [
      "\n",
      "--- 13. Total quantity of food donated by each provider ---\n",
      "                         Name  Total_Quantity\n",
      "0                  Miller Inc           217.0\n",
      "1                 Barry Group           179.0\n",
      "2  Evans, Wright and Mitchell           158.0\n",
      "3                 Smith Group           150.0\n",
      "4                Campbell LLC           145.0\n",
      "5                  Nelson LLC           142.0\n",
      "6                  Ruiz-Oneal           140.0\n",
      "7           Blankenship-Lewis           124.0\n",
      "8                  Kelly-Ware           123.0\n",
      "9           Bradford-Martinez           121.0\n"
     ]
    }
   ],
   "source": [
    "print(\"\\n--- 13. Total quantity of food donated by each provider ---\")\n",
    "query_13 = \"\"\"\n",
    "SELECT\n",
    "    p.Name,\n",
    "    SUM(fl.Quantity) as Total_Quantity\n",
    "FROM\n",
    "    providers as p\n",
    "JOIN\n",
    "    food_listings as fl ON p.Provider_ID = fl.Provider_ID\n",
    "GROUP BY\n",
    "    p.Name\n",
    "ORDER BY\n",
    "    Total_Quantity DESC\n",
    "LIMIT 10;\n",
    "\"\"\"\n",
    "result_13 = pd.read_sql_query(query_13, engine)\n",
    "print(result_13)"
   ]
  },
  {
   "cell_type": "markdown",
   "id": "f4671d47",
   "metadata": {},
   "source": [
    "14. Most common food types"
   ]
  },
  {
   "cell_type": "code",
   "execution_count": 95,
   "id": "4d5efa10",
   "metadata": {},
   "outputs": [
    {
     "name": "stdout",
     "output_type": "stream",
     "text": [
      "\n",
      "--- 14. Most common food types ---\n",
      "        Food_Type  Number_of_Items\n",
      "0      Vegetarian              336\n",
      "1           Vegan              334\n",
      "2  Non-Vegetarian              330\n"
     ]
    }
   ],
   "source": [
    "print(\"\\n--- 14. Most common food types ---\")\n",
    "query_14 = \"\"\"\n",
    "SELECT Food_Type, COUNT(*) as Number_of_Items\n",
    "FROM food_listings\n",
    "GROUP BY Food_Type\n",
    "ORDER BY Number_of_Items DESC;\n",
    "\"\"\"\n",
    "result_14 = pd.read_sql_query(query_14, engine)\n",
    "print(result_14)"
   ]
  },
  {
   "cell_type": "markdown",
   "id": "75600634",
   "metadata": {},
   "source": [
    "15. Most common meal types"
   ]
  },
  {
   "cell_type": "code",
   "execution_count": 97,
   "id": "78148e3b",
   "metadata": {},
   "outputs": [
    {
     "name": "stdout",
     "output_type": "stream",
     "text": [
      "\n",
      "--- 15. Most common meal types ---\n",
      "   Meal_Type  Number_of_Items\n",
      "0  Breakfast              254\n",
      "1     Snacks              253\n",
      "2      Lunch              248\n",
      "3     Dinner              245\n"
     ]
    }
   ],
   "source": [
    "print(\"\\n--- 15. Most common meal types ---\")\n",
    "query_15 = \"\"\"\n",
    "SELECT Meal_Type, COUNT(*) as Number_of_Items\n",
    "FROM food_listings\n",
    "GROUP BY Meal_Type\n",
    "ORDER BY Number_of_Items DESC;\n",
    "\"\"\"\n",
    "result_15 = pd.read_sql_query(query_15, engine)\n",
    "print(result_15)"
   ]
  },
  {
   "cell_type": "code",
   "execution_count": null,
   "id": "df878ea0",
   "metadata": {},
   "outputs": [],
   "source": []
  }
 ],
 "metadata": {
  "kernelspec": {
   "display_name": "Python 3",
   "language": "python",
   "name": "python3"
  },
  "language_info": {
   "codemirror_mode": {
    "name": "ipython",
    "version": 3
   },
   "file_extension": ".py",
   "mimetype": "text/x-python",
   "name": "python",
   "nbconvert_exporter": "python",
   "pygments_lexer": "ipython3",
   "version": "3.10.0"
  }
 },
 "nbformat": 4,
 "nbformat_minor": 5
}
